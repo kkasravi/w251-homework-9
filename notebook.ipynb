{
 "cells": [
  {
   "cell_type": "code",
   "execution_count": 1,
   "id": "769b3a11",
   "metadata": {},
   "outputs": [
    {
     "name": "stdout",
     "output_type": "stream",
     "text": [
      "Looking in indexes: https://pypi.org/simple, https://pypi.ngc.nvidia.com\n",
      "Requirement already satisfied: ipywidgets in /usr/local/lib/python3.8/dist-packages (8.0.4)\n",
      "Requirement already satisfied: ipython>=6.1.0 in /usr/local/lib/python3.8/dist-packages (from ipywidgets) (8.9.0)\n",
      "Requirement already satisfied: ipykernel>=4.5.1 in /usr/local/lib/python3.8/dist-packages (from ipywidgets) (6.21.1)\n",
      "Requirement already satisfied: widgetsnbextension~=4.0 in /usr/local/lib/python3.8/dist-packages (from ipywidgets) (4.0.5)\n",
      "Requirement already satisfied: traitlets>=4.3.1 in /usr/local/lib/python3.8/dist-packages (from ipywidgets) (5.9.0)\n",
      "Requirement already satisfied: jupyterlab-widgets~=3.0 in /usr/local/lib/python3.8/dist-packages (from ipywidgets) (3.0.5)\n",
      "Requirement already satisfied: matplotlib-inline>=0.1 in /usr/local/lib/python3.8/dist-packages (from ipykernel>=4.5.1->ipywidgets) (0.1.6)\n",
      "Requirement already satisfied: packaging in /usr/local/lib/python3.8/dist-packages (from ipykernel>=4.5.1->ipywidgets) (22.0)\n",
      "Requirement already satisfied: tornado>=6.1 in /usr/local/lib/python3.8/dist-packages (from ipykernel>=4.5.1->ipywidgets) (6.2)\n",
      "Requirement already satisfied: jupyter-client>=6.1.12 in /usr/local/lib/python3.8/dist-packages (from ipykernel>=4.5.1->ipywidgets) (8.0.2)\n",
      "Requirement already satisfied: nest-asyncio in /usr/local/lib/python3.8/dist-packages (from ipykernel>=4.5.1->ipywidgets) (1.5.6)\n",
      "Requirement already satisfied: psutil in /usr/local/lib/python3.8/dist-packages (from ipykernel>=4.5.1->ipywidgets) (5.9.4)\n",
      "Requirement already satisfied: debugpy>=1.6.5 in /usr/local/lib/python3.8/dist-packages (from ipykernel>=4.5.1->ipywidgets) (1.6.6)\n",
      "Requirement already satisfied: jupyter-core!=5.0.*,>=4.12 in /usr/local/lib/python3.8/dist-packages (from ipykernel>=4.5.1->ipywidgets) (5.2.0)\n",
      "Requirement already satisfied: pyzmq>=17 in /usr/local/lib/python3.8/dist-packages (from ipykernel>=4.5.1->ipywidgets) (25.0.0)\n",
      "Requirement already satisfied: comm>=0.1.1 in /usr/local/lib/python3.8/dist-packages (from ipykernel>=4.5.1->ipywidgets) (0.1.2)\n",
      "Requirement already satisfied: pexpect>4.3 in /usr/local/lib/python3.8/dist-packages (from ipython>=6.1.0->ipywidgets) (4.8.0)\n",
      "Requirement already satisfied: pickleshare in /usr/local/lib/python3.8/dist-packages (from ipython>=6.1.0->ipywidgets) (0.7.5)\n",
      "Requirement already satisfied: backcall in /usr/local/lib/python3.8/dist-packages (from ipython>=6.1.0->ipywidgets) (0.2.0)\n",
      "Requirement already satisfied: decorator in /usr/local/lib/python3.8/dist-packages (from ipython>=6.1.0->ipywidgets) (5.1.1)\n",
      "Requirement already satisfied: stack-data in /usr/local/lib/python3.8/dist-packages (from ipython>=6.1.0->ipywidgets) (0.6.2)\n",
      "Requirement already satisfied: jedi>=0.16 in /usr/local/lib/python3.8/dist-packages (from ipython>=6.1.0->ipywidgets) (0.18.2)\n",
      "Requirement already satisfied: pygments>=2.4.0 in /usr/local/lib/python3.8/dist-packages (from ipython>=6.1.0->ipywidgets) (2.14.0)\n",
      "Requirement already satisfied: prompt-toolkit<3.1.0,>=3.0.30 in /usr/local/lib/python3.8/dist-packages (from ipython>=6.1.0->ipywidgets) (3.0.36)\n",
      "Requirement already satisfied: parso<0.9.0,>=0.8.0 in /usr/local/lib/python3.8/dist-packages (from jedi>=0.16->ipython>=6.1.0->ipywidgets) (0.8.3)\n",
      "Requirement already satisfied: importlib-metadata>=4.8.3 in /usr/local/lib/python3.8/dist-packages (from jupyter-client>=6.1.12->ipykernel>=4.5.1->ipywidgets) (5.1.0)\n",
      "Requirement already satisfied: python-dateutil>=2.8.2 in /usr/local/lib/python3.8/dist-packages (from jupyter-client>=6.1.12->ipykernel>=4.5.1->ipywidgets) (2.8.2)\n",
      "Requirement already satisfied: zipp>=0.5 in /usr/local/lib/python3.8/dist-packages (from importlib-metadata>=4.8.3->jupyter-client>=6.1.12->ipykernel>=4.5.1->ipywidgets) (3.11.0)\n",
      "Requirement already satisfied: platformdirs>=2.5 in /usr/local/lib/python3.8/dist-packages (from jupyter-core!=5.0.*,>=4.12->ipykernel>=4.5.1->ipywidgets) (3.0.0)\n",
      "Requirement already satisfied: ptyprocess>=0.5 in /usr/local/lib/python3.8/dist-packages (from pexpect>4.3->ipython>=6.1.0->ipywidgets) (0.7.0)\n",
      "Requirement already satisfied: wcwidth in /usr/local/lib/python3.8/dist-packages (from prompt-toolkit<3.1.0,>=3.0.30->ipython>=6.1.0->ipywidgets) (0.2.6)\n",
      "Requirement already satisfied: six>=1.5 in /usr/local/lib/python3.8/dist-packages (from python-dateutil>=2.8.2->jupyter-client>=6.1.12->ipykernel>=4.5.1->ipywidgets) (1.16.0)\n",
      "Requirement already satisfied: executing>=1.2.0 in /usr/local/lib/python3.8/dist-packages (from stack-data->ipython>=6.1.0->ipywidgets) (1.2.0)\n",
      "Requirement already satisfied: asttokens>=2.1.0 in /usr/local/lib/python3.8/dist-packages (from stack-data->ipython>=6.1.0->ipywidgets) (2.2.1)\n",
      "Requirement already satisfied: pure-eval in /usr/local/lib/python3.8/dist-packages (from stack-data->ipython>=6.1.0->ipywidgets) (0.2.2)\n",
      "\u001b[33mWARNING: Running pip as the 'root' user can result in broken permissions and conflicting behaviour with the system package manager. It is recommended to use a virtual environment instead: https://pip.pypa.io/warnings/venv\u001b[0m\n",
      "\u001b[33mWARNING: You are using pip version 21.2.4; however, version 23.0.1 is available.\n",
      "You should consider upgrading via the '/usr/bin/python -m pip install --upgrade pip' command.\u001b[0m\n"
     ]
    }
   ],
   "source": [
    "!pip install --upgrade ipywidgets"
   ]
  },
  {
   "cell_type": "code",
   "execution_count": 2,
   "id": "28365990",
   "metadata": {},
   "outputs": [],
   "source": [
    "!rm -rf /data/runs/*"
   ]
  },
  {
   "cell_type": "code",
   "execution_count": 3,
   "id": "403d692b",
   "metadata": {
    "executionInfo": {
     "elapsed": 4198,
     "status": "ok",
     "timestamp": 1624759883403,
     "user": {
      "displayName": "Dima Rekesh",
      "photoUrl": "https://lh3.googleusercontent.com/a-/AOh14GgCxhnQN9cW764WS8AiJguM8wE5foCZLMjr-NyFuQ=s64",
      "userId": "05362657998610812765"
     },
     "user_tz": 420
    },
    "id": "f2513038"
   },
   "outputs": [],
   "source": [
    "import os\n",
    "import random\n",
    "import shutil\n",
    "import time\n",
    "import warnings\n",
    "\n",
    "import torch\n",
    "import torch.nn as nn\n",
    "import torch.backends.cudnn as cudnn\n",
    "import torch.optim\n",
    "from torch.utils.tensorboard import SummaryWriter\n",
    "\n",
    "import torch.utils.data\n",
    "import torchvision\n",
    "import torchvision.transforms as transforms\n",
    "import torchvision.datasets as datasets\n",
    "import torchvision.models as models"
   ]
  },
  {
   "cell_type": "code",
   "execution_count": 4,
   "id": "a48e3658",
   "metadata": {
    "executionInfo": {
     "elapsed": 354,
     "status": "ok",
     "timestamp": 1624759889299,
     "user": {
      "displayName": "Dima Rekesh",
      "photoUrl": "https://lh3.googleusercontent.com/a-/AOh14GgCxhnQN9cW764WS8AiJguM8wE5foCZLMjr-NyFuQ=s64",
      "userId": "05362657998610812765"
     },
     "user_tz": 420
    },
    "id": "02d1a0c0"
   },
   "outputs": [],
   "source": [
    "SEED=1"
   ]
  },
  {
   "cell_type": "code",
   "execution_count": 5,
   "id": "0b299b2f",
   "metadata": {
    "executionInfo": {
     "elapsed": 17,
     "status": "ok",
     "timestamp": 1624759891917,
     "user": {
      "displayName": "Dima Rekesh",
      "photoUrl": "https://lh3.googleusercontent.com/a-/AOh14GgCxhnQN9cW764WS8AiJguM8wE5foCZLMjr-NyFuQ=s64",
      "userId": "05362657998610812765"
     },
     "user_tz": 420
    },
    "id": "b1b9bfde"
   },
   "outputs": [],
   "source": [
    "random.seed(SEED)\n",
    "torch.manual_seed(SEED)\n",
    "cudnn.deterministic = True"
   ]
  },
  {
   "cell_type": "code",
   "execution_count": 6,
   "id": "f7814b9d",
   "metadata": {
    "colab": {
     "base_uri": "https://localhost:8080/"
    },
    "executionInfo": {
     "elapsed": 230,
     "status": "ok",
     "timestamp": 1624759894660,
     "user": {
      "displayName": "Dima Rekesh",
      "photoUrl": "https://lh3.googleusercontent.com/a-/AOh14GgCxhnQN9cW764WS8AiJguM8wE5foCZLMjr-NyFuQ=s64",
      "userId": "05362657998610812765"
     },
     "user_tz": 420
    },
    "id": "e9eb47a7",
    "outputId": "c49775ff-91ee-488c-d99c-3739e452d6af"
   },
   "outputs": [
    {
     "data": {
      "text/plain": [
       "1"
      ]
     },
     "execution_count": 6,
     "metadata": {},
     "output_type": "execute_result"
    }
   ],
   "source": [
    "torch.cuda.device_count()"
   ]
  },
  {
   "cell_type": "code",
   "execution_count": 7,
   "id": "1ddaf433",
   "metadata": {
    "id": "073b7b81"
   },
   "outputs": [],
   "source": [
    "START_EPOCH = 0"
   ]
  },
  {
   "cell_type": "code",
   "execution_count": 8,
   "id": "c055a6f1",
   "metadata": {
    "id": "5e18ae51",
    "tags": [
     "parameters"
    ]
   },
   "outputs": [],
   "source": [
    "ARCH = 'resnet152'\n",
    "EPOCHS = 5\n",
    "LR = 0.1\n",
    "MOMENTUM = 0.9\n",
    "WEIGHT_DECAY = 1e-4\n",
    "PRINT_FREQ = 50\n",
    "TRAIN_BATCH=256\n",
    "VAL_BATCH=256\n",
    "WORKERS=2\n",
    "TRAINDIR=\"/data/CINIC/train\"\n",
    "VALDIR=\"/data/CINIC/valid\"\n",
    "GPU=\"cuda:0\""
   ]
  },
  {
   "cell_type": "code",
   "execution_count": 9,
   "id": "0f611498",
   "metadata": {},
   "outputs": [],
   "source": [
    "# set your active device to your GPU in this cell\n",
    "device = 'cuda'"
   ]
  },
  {
   "cell_type": "code",
   "execution_count": 10,
   "id": "bdd58ca4",
   "metadata": {
    "colab": {
     "base_uri": "https://localhost:8080/"
    },
    "executionInfo": {
     "elapsed": 137,
     "status": "ok",
     "timestamp": 1622949197302,
     "user": {
      "displayName": "Jayanth Srinivasa",
      "photoUrl": "",
      "userId": "03369694624178485882"
     },
     "user_tz": 420
    },
    "id": "c6bf6a83",
    "outputId": "72d2e92f-7574-4c0a-c813-288cd69eaa36"
   },
   "outputs": [],
   "source": [
    "if not torch.cuda.is_available():\n",
    "    print('GPU not detected.. did you pass through your GPU?')"
   ]
  },
  {
   "cell_type": "code",
   "execution_count": 11,
   "id": "20fd3076",
   "metadata": {
    "id": "acd97390"
   },
   "outputs": [],
   "source": [
    "#torch.cuda.set_device(GPU)"
   ]
  },
  {
   "cell_type": "code",
   "execution_count": 12,
   "id": "f680d819",
   "metadata": {
    "id": "e19a5849"
   },
   "outputs": [],
   "source": [
    "cudnn.benchmark = True"
   ]
  },
  {
   "cell_type": "code",
   "execution_count": 13,
   "id": "3cbea924",
   "metadata": {
    "id": "4e65743f"
   },
   "outputs": [],
   "source": [
    "def train(train_loader, model, criterion, optimizer, epoch):\n",
    "    batch_time = AverageMeter('Time', ':6.3f')\n",
    "    data_time = AverageMeter('Data', ':6.3f')\n",
    "    losses = AverageMeter('Loss', ':.4e')\n",
    "    top1 = AverageMeter('Acc@1', ':6.2f')\n",
    "    top5 = AverageMeter('Acc@5', ':6.2f')\n",
    "    global_step = 0\n",
    "    progress = ProgressMeter(\n",
    "        len(train_loader),\n",
    "        [batch_time, data_time, losses, top1, top5],\n",
    "        prefix=\"Epoch: [{}]\".format(epoch))\n",
    "\n",
    "    # switch to train mode\n",
    "    model.train()\n",
    "\n",
    "    end = time.time()\n",
    "    for i, (images, target) in enumerate(train_loader):\n",
    "        # measure data loading time\n",
    "        data_time.update(time.time() - end)\n",
    "\n",
    "#         if GPU is not None:\n",
    "#             images = images.cuda(GPU, non_blocking=True)\n",
    "#         if torch.cuda.is_available():\n",
    "#             target = target.cuda(GPU, non_blocking=True)\n",
    "        images = images.to(device)\n",
    "        target = target.to(device)\n",
    "\n",
    "        # Enables autocasting for the forward pass (model + loss)\n",
    "        with torch.autocast(device_type=device):\n",
    "            # compute output\n",
    "            output = model(images)\n",
    "            loss = criterion(output, target)\n",
    "\n",
    "            # measure accuracy and record loss\n",
    "            acc1, acc5 = accuracy(output, target, topk=(1, 5))\n",
    "            writer.add_scalar(\"accuracy/acc1\", acc1, global_step)\n",
    "            writer.add_scalar(\"accuracy/acc5\", acc5, global_step)\n",
    "            writer.add_scalar(\"loss\", loss, global_step)\n",
    "            losses.update(loss.item(), images.size(0))\n",
    "            top1.update(acc1[0], images.size(0))\n",
    "            top5.update(acc5[0], images.size(0))\n",
    "\n",
    "            # compute gradient and do SGD step\n",
    "            optimizer.zero_grad()\n",
    "            loss.backward()\n",
    "            optimizer.step()\n",
    "\n",
    "            # measure elapsed time\n",
    "            batch_time.update(time.time() - end)\n",
    "            end = time.time()\n",
    "            global_step += 1\n",
    "\n",
    "            if i % PRINT_FREQ == 0:\n",
    "                progress.display(i)\n",
    "                \n"
   ]
  },
  {
   "cell_type": "code",
   "execution_count": 14,
   "id": "5bc619d1",
   "metadata": {
    "id": "ab30a1a4"
   },
   "outputs": [],
   "source": [
    "def validate(val_loader, model, criterion):\n",
    "    batch_time = AverageMeter('Time', ':6.3f')\n",
    "    losses = AverageMeter('Loss', ':.4e')\n",
    "    top1 = AverageMeter('Acc@1', ':6.2f')\n",
    "    top5 = AverageMeter('Acc@5', ':6.2f')\n",
    "    progress = ProgressMeter(\n",
    "        len(val_loader),\n",
    "        [batch_time, losses, top1, top5],\n",
    "        prefix='Test: ')\n",
    "\n",
    "    # switch to evaluate mode\n",
    "    model.eval()\n",
    "\n",
    "    with torch.no_grad():\n",
    "        end = time.time()\n",
    "        for i, (images, target) in enumerate(val_loader):\n",
    "#             if GPU is not None:\n",
    "#                 images = images.cuda(GPU, non_blocking=True)\n",
    "#             if torch.cuda.is_available():\n",
    "#                 target = target.cuda(GPU, non_blocking=True)\n",
    "\n",
    "            images = images.to(device)\n",
    "            target = target.to(device)\n",
    "\n",
    "            # compute output\n",
    "            with torch.autocast(device_type=device):\n",
    "                output = model(images)\n",
    "                loss = criterion(output, target)\n",
    "\n",
    "                # measure accuracy and record loss\n",
    "                acc1, acc5 = accuracy(output, target, topk=(1, 5))\n",
    "                losses.update(loss.item(), images.size(0))\n",
    "                top1.update(acc1[0], images.size(0))\n",
    "                top5.update(acc5[0], images.size(0))\n",
    "\n",
    "                # measure elapsed time\n",
    "                batch_time.update(time.time() - end)\n",
    "                end = time.time()\n",
    "\n",
    "                if i % PRINT_FREQ == 0:\n",
    "                    progress.display(i)\n",
    "\n",
    "        # TODO: this should also be done with the ProgressMeter\n",
    "        print(' * Acc@1 {top1.avg:.3f} Acc@5 {top5.avg:.3f}'\n",
    "              .format(top1=top1, top5=top5))\n",
    "\n",
    "    return top1.avg"
   ]
  },
  {
   "cell_type": "code",
   "execution_count": 15,
   "id": "6be40842",
   "metadata": {
    "id": "afa7d9fd"
   },
   "outputs": [],
   "source": [
    "def save_checkpoint(state, is_best, filename='checkpoint.pth.tar'):\n",
    "    torch.save(state, filename)\n",
    "    if is_best:\n",
    "        shutil.copyfile(filename, 'model_best.pth.tar')"
   ]
  },
  {
   "cell_type": "code",
   "execution_count": 16,
   "id": "354dd6ed",
   "metadata": {
    "id": "8c5f0ab4"
   },
   "outputs": [],
   "source": [
    "class AverageMeter(object):\n",
    "    \"\"\"Computes and stores the average and current value\"\"\"\n",
    "    def __init__(self, name, fmt=':f'):\n",
    "        self.name = name\n",
    "        self.fmt = fmt\n",
    "        self.reset()\n",
    "\n",
    "    def reset(self):\n",
    "        self.val = 0\n",
    "        self.avg = 0\n",
    "        self.sum = 0\n",
    "        self.count = 0\n",
    "\n",
    "    def update(self, val, n=1):\n",
    "        self.val = val\n",
    "        self.sum += val * n\n",
    "        self.count += n\n",
    "        self.avg = self.sum / self.count\n",
    "\n",
    "    def __str__(self):\n",
    "        fmtstr = '{name} {val' + self.fmt + '} ({avg' + self.fmt + '})'\n",
    "        return fmtstr.format(**self.__dict__)"
   ]
  },
  {
   "cell_type": "code",
   "execution_count": 17,
   "id": "3f8c8c33",
   "metadata": {
    "id": "ce30c86a"
   },
   "outputs": [],
   "source": [
    "class ProgressMeter(object):\n",
    "    def __init__(self, num_batches, meters, prefix=\"\"):\n",
    "        self.batch_fmtstr = self._get_batch_fmtstr(num_batches)\n",
    "        self.meters = meters\n",
    "        self.prefix = prefix\n",
    "\n",
    "    def display(self, batch):\n",
    "        entries = [self.prefix + self.batch_fmtstr.format(batch)]\n",
    "        entries += [str(meter) for meter in self.meters]\n",
    "        print('\\t'.join(entries))\n",
    "\n",
    "    def _get_batch_fmtstr(self, num_batches):\n",
    "        num_digits = len(str(num_batches // 1))\n",
    "        fmt = '{:' + str(num_digits) + 'd}'\n",
    "        return '[' + fmt + '/' + fmt.format(num_batches) + ']'"
   ]
  },
  {
   "cell_type": "code",
   "execution_count": 18,
   "id": "4635bb21",
   "metadata": {
    "id": "7504ce7a"
   },
   "outputs": [],
   "source": [
    "def adjust_learning_rate(optimizer, epoch):\n",
    "    \"\"\"Sets the learning rate to the initial LR decayed by 10 every 30 epochs\"\"\"\n",
    "    lr = LR * (0.1 ** (epoch // 30))\n",
    "    for param_group in optimizer.param_groups:\n",
    "        param_group['lr'] = lr"
   ]
  },
  {
   "cell_type": "code",
   "execution_count": 19,
   "id": "e5e59a81",
   "metadata": {
    "id": "0d659923"
   },
   "outputs": [],
   "source": [
    "def accuracy(output, target, topk=(1,)):\n",
    "    \"\"\"Computes the accuracy over the k top predictions for the specified values of k\"\"\"\n",
    "    with torch.no_grad():\n",
    "        maxk = max(topk)\n",
    "        batch_size = target.size(0)\n",
    "\n",
    "        _, pred = output.topk(maxk, 1, True, True)\n",
    "        pred = pred.t()\n",
    "        correct = pred.eq(target.view(1, -1).expand_as(pred))\n",
    "\n",
    "        res = []\n",
    "        for k in topk:\n",
    "            correct_k = correct[:k].reshape(-1).float().sum(0, keepdim=True)\n",
    "            res.append(correct_k.mul_(100.0 / batch_size))\n",
    "        return res"
   ]
  },
  {
   "cell_type": "code",
   "execution_count": 20,
   "id": "bc0d84a8",
   "metadata": {
    "id": "f74f06e1"
   },
   "outputs": [],
   "source": [
    "imagenet_mean_RGB = [0.47889522, 0.47227842, 0.43047404]\n",
    "imagenet_std_RGB = [0.229, 0.224, 0.225]\n",
    "cinic_mean_RGB = [0.47889522, 0.47227842, 0.43047404]\n",
    "cinic_std_RGB = [0.24205776, 0.23828046, 0.25874835]\n",
    "cifar_mean_RGB = [0.4914, 0.4822, 0.4465]\n",
    "cifar_std_RGB = [0.2023, 0.1994, 0.2010]"
   ]
  },
  {
   "cell_type": "code",
   "execution_count": 21,
   "id": "992e1ba7",
   "metadata": {
    "id": "c005e2dd"
   },
   "outputs": [],
   "source": [
    "normalize = transforms.Normalize(mean=cifar_mean_RGB, std=cifar_std_RGB)"
   ]
  },
  {
   "cell_type": "code",
   "execution_count": 22,
   "id": "6f3933df",
   "metadata": {
    "id": "29d54592"
   },
   "outputs": [],
   "source": [
    "IMG_SIZE = 32\n",
    "# IMG_SIZE = 224"
   ]
  },
  {
   "cell_type": "code",
   "execution_count": 23,
   "id": "f1c2ca94",
   "metadata": {
    "id": "94059b7f"
   },
   "outputs": [],
   "source": [
    "NUM_CLASSES = 10"
   ]
  },
  {
   "cell_type": "code",
   "execution_count": 24,
   "id": "a6810a04",
   "metadata": {
    "id": "788c0401"
   },
   "outputs": [
    {
     "name": "stderr",
     "output_type": "stream",
     "text": [
      "/usr/local/lib/python3.8/dist-packages/torchvision/models/_utils.py:208: UserWarning: The parameter 'pretrained' is deprecated since 0.13 and may be removed in the future, please use 'weights' instead.\n",
      "  warnings.warn(\n",
      "/usr/local/lib/python3.8/dist-packages/torchvision/models/_utils.py:223: UserWarning: Arguments other than a weight enum or `None` for 'weights' are deprecated since 0.13 and may be removed in the future. The current behavior is equivalent to passing `weights=ResNet152_Weights.IMAGENET1K_V1`. You can also use `weights=ResNet152_Weights.DEFAULT` to get the most up-to-date weights.\n",
      "  warnings.warn(msg)\n"
     ]
    }
   ],
   "source": [
    "#model = models.__dict__[ARCH]()\n",
    "model = models.resnet152(pretrained=True)"
   ]
  },
  {
   "cell_type": "code",
   "execution_count": 25,
   "id": "252d56ad",
   "metadata": {},
   "outputs": [],
   "source": [
    "if torch.cuda.device_count() > 1:\n",
    "    print(\"Let's use\", torch.cuda.device_count(), \"GPUs!\")\n",
    "    # dim = 0 [30, xxx] -> [10, ...], [10, ...], [10, ...] on 3 GPUs\n",
    "    model = nn.DataParallel(model)"
   ]
  },
  {
   "cell_type": "code",
   "execution_count": 26,
   "id": "9927f637",
   "metadata": {
    "id": "63dc579e"
   },
   "outputs": [],
   "source": [
    "inf = model.fc.in_features"
   ]
  },
  {
   "cell_type": "code",
   "execution_count": 27,
   "id": "7a872e23",
   "metadata": {
    "id": "edf9cf5d"
   },
   "outputs": [],
   "source": [
    "model.fc = nn.Linear(inf, NUM_CLASSES)"
   ]
  },
  {
   "cell_type": "code",
   "execution_count": 28,
   "id": "d2946c97",
   "metadata": {
    "id": "319e2d99"
   },
   "outputs": [],
   "source": [
    "#model.cuda(GPU)\n",
    "model = model.to(device)"
   ]
  },
  {
   "cell_type": "code",
   "execution_count": 29,
   "id": "2b4c9926",
   "metadata": {
    "id": "b8dc59b5"
   },
   "outputs": [],
   "source": [
    "criterion = nn.CrossEntropyLoss().cuda(GPU)"
   ]
  },
  {
   "cell_type": "code",
   "execution_count": 30,
   "id": "1f622d30",
   "metadata": {
    "id": "3999d84a"
   },
   "outputs": [],
   "source": [
    "optimizer = torch.optim.SGD(model.parameters(), LR,\n",
    "                                momentum=MOMENTUM,\n",
    "                                weight_decay=WEIGHT_DECAY)"
   ]
  },
  {
   "cell_type": "code",
   "execution_count": 31,
   "id": "5063c42a",
   "metadata": {
    "id": "9fae338b"
   },
   "outputs": [],
   "source": [
    "scheduler = torch.optim.lr_scheduler.CosineAnnealingLR(optimizer, T_max=EPOCHS)"
   ]
  },
  {
   "cell_type": "code",
   "execution_count": 32,
   "id": "e07eb5aa",
   "metadata": {
    "id": "34dbcdb1"
   },
   "outputs": [],
   "source": [
    "transform_train = transforms.Compose([\n",
    "    transforms.RandomCrop(32, padding=4),\n",
    "    transforms.RandomHorizontalFlip(),\n",
    "    transforms.ToTensor(),\n",
    "    transforms.Normalize(cinic_mean_RGB, cinic_std_RGB),\n",
    "])"
   ]
  },
  {
   "cell_type": "code",
   "execution_count": 33,
   "id": "5d782b71",
   "metadata": {
    "id": "e5275a69"
   },
   "outputs": [],
   "source": [
    "train_dataset = datasets.ImageFolder(\n",
    "    TRAINDIR, transform=transform_train)"
   ]
  },
  {
   "cell_type": "code",
   "execution_count": 34,
   "id": "b7433e33",
   "metadata": {
    "id": "854ca1ad"
   },
   "outputs": [],
   "source": [
    "transform_val = transforms.Compose([\n",
    "    transforms.ToTensor(),\n",
    "    transforms.Normalize(cinic_mean_RGB, cinic_std_RGB),\n",
    "])"
   ]
  },
  {
   "cell_type": "code",
   "execution_count": 35,
   "id": "ee4401f6",
   "metadata": {
    "id": "abfa5fb6"
   },
   "outputs": [],
   "source": [
    "val_dataset = datasets.ImageFolder(\n",
    "    VALDIR, transform=transform_val)"
   ]
  },
  {
   "cell_type": "code",
   "execution_count": 36,
   "id": "182920a4",
   "metadata": {
    "id": "07a0bdf4"
   },
   "outputs": [],
   "source": [
    "train_loader = torch.utils.data.DataLoader(\n",
    "        train_dataset, batch_size=TRAIN_BATCH, shuffle=True,\n",
    "        num_workers=WORKERS, pin_memory=True, sampler=None)"
   ]
  },
  {
   "cell_type": "code",
   "execution_count": 37,
   "id": "54104fd2",
   "metadata": {
    "id": "192ae835"
   },
   "outputs": [],
   "source": [
    "val_loader = torch.utils.data.DataLoader(\n",
    "        val_dataset, batch_size=VAL_BATCH, shuffle=False,\n",
    "        num_workers=WORKERS, pin_memory=True, sampler=None) "
   ]
  },
  {
   "cell_type": "code",
   "execution_count": 38,
   "id": "2c2c3bcf",
   "metadata": {
    "id": "1502c5db"
   },
   "outputs": [],
   "source": [
    "best_acc1 = 0"
   ]
  },
  {
   "cell_type": "code",
   "execution_count": 39,
   "id": "0be0786d",
   "metadata": {
    "id": "ceb95e07"
   },
   "outputs": [
    {
     "name": "stdout",
     "output_type": "stream",
     "text": [
      "Epoch: [0][  0/352]\tTime  1.364 ( 1.364)\tData  0.190 ( 0.190)\tLoss 2.3803e+00 (2.3803e+00)\tAcc@1  12.89 ( 12.89)\tAcc@5  51.17 ( 51.17)\n",
      "Epoch: [0][ 50/352]\tTime  0.071 ( 0.096)\tData  0.000 ( 0.004)\tLoss 2.4355e+00 (3.2169e+00)\tAcc@1  11.72 ( 13.47)\tAcc@5  60.94 ( 56.31)\n",
      "Epoch: [0][100/352]\tTime  0.071 ( 0.085)\tData  0.000 ( 0.002)\tLoss 2.3710e+00 (2.8160e+00)\tAcc@1   8.98 ( 14.43)\tAcc@5  42.19 ( 59.57)\n",
      "Epoch: [0][150/352]\tTime  0.070 ( 0.080)\tData  0.000 ( 0.002)\tLoss 2.2347e+00 (2.6675e+00)\tAcc@1  16.80 ( 13.95)\tAcc@5  66.41 ( 59.41)\n",
      "Epoch: [0][200/352]\tTime  0.070 ( 0.078)\tData  0.000 ( 0.001)\tLoss 2.1854e+00 (2.5648e+00)\tAcc@1  18.75 ( 14.97)\tAcc@5  66.41 ( 61.77)\n",
      "Epoch: [0][250/352]\tTime  0.070 ( 0.076)\tData  0.000 ( 0.001)\tLoss 2.2017e+00 (2.4889e+00)\tAcc@1  20.31 ( 15.99)\tAcc@5  71.48 ( 63.95)\n",
      "Epoch: [0][300/352]\tTime  0.071 ( 0.075)\tData  0.000 ( 0.001)\tLoss 2.0561e+00 (2.4259e+00)\tAcc@1  21.09 ( 16.82)\tAcc@5  78.52 ( 65.95)\n",
      "Epoch: [0][350/352]\tTime  0.067 ( 0.075)\tData  0.000 ( 0.001)\tLoss 2.1117e+00 (2.3803e+00)\tAcc@1  20.31 ( 17.60)\tAcc@5  80.08 ( 67.65)\n",
      "Batch size: 256, allocated memory: 1965.11181640625 MB total memory: 22592.0625 MB\n",
      "Test: [  0/352]\tTime  0.149 ( 0.149)\tLoss 1.5060e+00 (1.5060e+00)\tAcc@1  45.70 ( 45.70)\tAcc@5  87.50 ( 87.50)\n",
      "Test: [ 50/352]\tTime  0.054 ( 0.041)\tLoss 2.0636e+00 (1.6873e+00)\tAcc@1   3.12 ( 32.73)\tAcc@5  89.06 ( 90.18)\n",
      "Test: [100/352]\tTime  0.053 ( 0.040)\tLoss 2.8282e+00 (2.0253e+00)\tAcc@1  18.36 ( 22.06)\tAcc@5  84.77 ( 88.42)\n",
      "Test: [150/352]\tTime  0.040 ( 0.039)\tLoss 2.1948e+00 (2.1808e+00)\tAcc@1   7.42 ( 16.50)\tAcc@5  69.92 ( 82.41)\n",
      "Test: [200/352]\tTime  0.024 ( 0.039)\tLoss 2.4367e+00 (2.2306e+00)\tAcc@1   0.78 ( 13.25)\tAcc@5  56.64 ( 77.99)\n",
      "Test: [250/352]\tTime  0.024 ( 0.039)\tLoss 2.2251e+00 (2.2401e+00)\tAcc@1  24.22 ( 18.00)\tAcc@5  64.84 ( 75.99)\n",
      "Test: [300/352]\tTime  0.024 ( 0.039)\tLoss 2.2568e+00 (2.2847e+00)\tAcc@1  30.86 ( 19.21)\tAcc@5  89.45 ( 75.59)\n",
      "Test: [350/352]\tTime  0.024 ( 0.039)\tLoss 1.6876e+00 (2.2662e+00)\tAcc@1  35.94 ( 21.99)\tAcc@5  94.14 ( 77.58)\n",
      " * Acc@1 22.012 Acc@5 77.603\n",
      "lr: [0.09045084971874738]\n",
      "Epoch: [1][  0/352]\tTime  0.266 ( 0.266)\tData  0.164 ( 0.164)\tLoss 2.0093e+00 (2.0093e+00)\tAcc@1  23.44 ( 23.44)\tAcc@5  82.81 ( 82.81)\n",
      "Epoch: [1][ 50/352]\tTime  0.071 ( 0.076)\tData  0.000 ( 0.004)\tLoss 1.9682e+00 (2.0302e+00)\tAcc@1  27.34 ( 23.11)\tAcc@5  82.81 ( 80.48)\n",
      "Epoch: [1][100/352]\tTime  0.072 ( 0.074)\tData  0.000 ( 0.002)\tLoss 2.0352e+00 (2.0107e+00)\tAcc@1  21.48 ( 23.33)\tAcc@5  80.08 ( 80.48)\n",
      "Epoch: [1][150/352]\tTime  0.071 ( 0.073)\tData  0.000 ( 0.002)\tLoss 2.0246e+00 (1.9942e+00)\tAcc@1  23.05 ( 23.84)\tAcc@5  80.47 ( 80.72)\n",
      "Epoch: [1][200/352]\tTime  0.071 ( 0.073)\tData  0.001 ( 0.001)\tLoss 1.9214e+00 (1.9795e+00)\tAcc@1  23.05 ( 24.63)\tAcc@5  82.81 ( 81.08)\n",
      "Epoch: [1][250/352]\tTime  0.070 ( 0.072)\tData  0.000 ( 0.001)\tLoss 1.9275e+00 (1.9652e+00)\tAcc@1  26.17 ( 25.18)\tAcc@5  83.59 ( 81.58)\n",
      "Epoch: [1][300/352]\tTime  0.071 ( 0.072)\tData  0.000 ( 0.001)\tLoss 1.8487e+00 (1.9519e+00)\tAcc@1  30.86 ( 25.73)\tAcc@5  86.72 ( 82.01)\n",
      "Epoch: [1][350/352]\tTime  0.068 ( 0.072)\tData  0.000 ( 0.001)\tLoss 1.8332e+00 (1.9390e+00)\tAcc@1  28.91 ( 26.27)\tAcc@5  85.16 ( 82.39)\n",
      "Batch size: 256, allocated memory: 1965.11181640625 MB total memory: 22592.0625 MB\n",
      "Test: [  0/352]\tTime  0.149 ( 0.149)\tLoss 1.3197e+00 (1.3197e+00)\tAcc@1  67.19 ( 67.19)\tAcc@5  86.72 ( 86.72)\n",
      "Test: [ 50/352]\tTime  0.054 ( 0.051)\tLoss 1.9769e+00 (1.5234e+00)\tAcc@1  26.17 ( 53.58)\tAcc@5  83.20 ( 88.68)\n",
      "Test: [100/352]\tTime  0.055 ( 0.045)\tLoss 1.8156e+00 (1.7786e+00)\tAcc@1  42.58 ( 40.61)\tAcc@5  93.75 ( 86.19)\n",
      "Test: [150/352]\tTime  0.055 ( 0.043)\tLoss 2.0458e+00 (1.8410e+00)\tAcc@1  10.55 ( 36.14)\tAcc@5  88.67 ( 87.25)\n",
      "Test: [200/352]\tTime  0.053 ( 0.042)\tLoss 1.9171e+00 (1.9043e+00)\tAcc@1  10.16 ( 30.00)\tAcc@5  93.75 ( 87.36)\n",
      "Test: [250/352]\tTime  0.051 ( 0.041)\tLoss 1.7701e+00 (1.9362e+00)\tAcc@1  46.88 ( 29.31)\tAcc@5  71.09 ( 85.72)\n",
      "Test: [300/352]\tTime  0.054 ( 0.041)\tLoss 2.1829e+00 (1.9693e+00)\tAcc@1  11.33 ( 29.69)\tAcc@5  78.12 ( 84.26)\n",
      "Test: [350/352]\tTime  0.051 ( 0.041)\tLoss 1.7155e+00 (1.9974e+00)\tAcc@1  34.38 ( 29.55)\tAcc@5  89.06 ( 84.37)\n",
      " * Acc@1 29.570 Acc@5 84.373\n",
      "lr: [0.0723606797749979]\n",
      "Epoch: [2][  0/352]\tTime  0.257 ( 0.257)\tData  0.162 ( 0.162)\tLoss 1.8499e+00 (1.8499e+00)\tAcc@1  27.34 ( 27.34)\tAcc@5  85.16 ( 85.16)\n",
      "Epoch: [2][ 50/352]\tTime  0.072 ( 0.077)\tData  0.000 ( 0.004)\tLoss 1.8538e+00 (1.8510e+00)\tAcc@1  33.20 ( 30.46)\tAcc@5  85.94 ( 84.56)\n",
      "Epoch: [2][100/352]\tTime  0.072 ( 0.074)\tData  0.000 ( 0.002)\tLoss 1.8687e+00 (1.8412e+00)\tAcc@1  30.08 ( 30.43)\tAcc@5  82.42 ( 84.98)\n",
      "Epoch: [2][150/352]\tTime  0.072 ( 0.074)\tData  0.000 ( 0.002)\tLoss 1.8484e+00 (1.8365e+00)\tAcc@1  26.95 ( 30.34)\tAcc@5  83.20 ( 85.01)\n",
      "Epoch: [2][200/352]\tTime  0.072 ( 0.074)\tData  0.000 ( 0.001)\tLoss 1.7407e+00 (1.8287e+00)\tAcc@1  31.25 ( 30.60)\tAcc@5  85.94 ( 85.25)\n",
      "Epoch: [2][250/352]\tTime  0.072 ( 0.074)\tData  0.000 ( 0.001)\tLoss 1.7433e+00 (1.8232e+00)\tAcc@1  33.20 ( 30.82)\tAcc@5  89.45 ( 85.39)\n",
      "Epoch: [2][300/352]\tTime  0.071 ( 0.074)\tData  0.000 ( 0.001)\tLoss 1.7484e+00 (1.8209e+00)\tAcc@1  32.81 ( 31.04)\tAcc@5  87.11 ( 85.43)\n",
      "Epoch: [2][350/352]\tTime  0.069 ( 0.074)\tData  0.000 ( 0.001)\tLoss 1.8344e+00 (1.8161e+00)\tAcc@1  35.16 ( 31.21)\tAcc@5  84.77 ( 85.54)\n",
      "Batch size: 256, allocated memory: 1965.11181640625 MB total memory: 22592.0625 MB\n",
      "Test: [  0/352]\tTime  0.160 ( 0.160)\tLoss 1.2213e+00 (1.2213e+00)\tAcc@1  65.23 ( 65.23)\tAcc@5  86.33 ( 86.33)\n",
      "Test: [ 50/352]\tTime  0.050 ( 0.041)\tLoss 1.8079e+00 (1.3284e+00)\tAcc@1  44.14 ( 60.06)\tAcc@5  85.16 ( 88.52)\n",
      "Test: [100/352]\tTime  0.050 ( 0.040)\tLoss 1.5688e+00 (1.5707e+00)\tAcc@1  49.22 ( 48.80)\tAcc@5  95.70 ( 87.67)\n",
      "Test: [150/352]\tTime  0.054 ( 0.039)\tLoss 1.9650e+00 (1.6979e+00)\tAcc@1  17.19 ( 37.73)\tAcc@5  90.23 ( 88.98)\n",
      "Test: [200/352]\tTime  0.043 ( 0.039)\tLoss 1.5749e+00 (1.7132e+00)\tAcc@1  50.00 ( 36.83)\tAcc@5  96.48 ( 90.20)\n",
      "Test: [250/352]\tTime  0.046 ( 0.039)\tLoss 1.7692e+00 (1.7613e+00)\tAcc@1  43.36 ( 34.91)\tAcc@5  78.52 ( 89.01)\n",
      "Test: [300/352]\tTime  0.045 ( 0.039)\tLoss 1.9176e+00 (1.7797e+00)\tAcc@1  19.53 ( 34.42)\tAcc@5  80.47 ( 87.41)\n",
      "Test: [350/352]\tTime  0.034 ( 0.039)\tLoss 2.1390e+00 (1.8335e+00)\tAcc@1  11.72 ( 32.15)\tAcc@5  80.47 ( 86.38)\n",
      " * Acc@1 32.119 Acc@5 86.368\n",
      "lr: [0.052786404500042065]\n",
      "Epoch: [3][  0/352]\tTime  0.258 ( 0.258)\tData  0.163 ( 0.163)\tLoss 1.8251e+00 (1.8251e+00)\tAcc@1  30.47 ( 30.47)\tAcc@5  84.77 ( 84.77)\n",
      "Epoch: [3][ 50/352]\tTime  0.071 ( 0.076)\tData  0.000 ( 0.004)\tLoss 1.6692e+00 (1.7798e+00)\tAcc@1  38.67 ( 32.54)\tAcc@5  90.62 ( 86.48)\n",
      "Epoch: [3][100/352]\tTime  0.071 ( 0.074)\tData  0.000 ( 0.002)\tLoss 1.7516e+00 (1.7760e+00)\tAcc@1  32.03 ( 33.19)\tAcc@5  85.94 ( 86.53)\n",
      "Epoch: [3][150/352]\tTime  0.071 ( 0.073)\tData  0.000 ( 0.002)\tLoss 1.7302e+00 (1.7686e+00)\tAcc@1  32.81 ( 33.48)\tAcc@5  89.06 ( 86.60)\n",
      "Epoch: [3][200/352]\tTime  0.071 ( 0.073)\tData  0.000 ( 0.001)\tLoss 1.7194e+00 (1.7668e+00)\tAcc@1  32.42 ( 33.64)\tAcc@5  87.89 ( 86.61)\n",
      "Epoch: [3][250/352]\tTime  0.070 ( 0.072)\tData  0.000 ( 0.001)\tLoss 1.5841e+00 (1.7613e+00)\tAcc@1  44.92 ( 33.82)\tAcc@5  89.84 ( 86.82)\n",
      "Epoch: [3][300/352]\tTime  0.079 ( 0.072)\tData  0.000 ( 0.001)\tLoss 1.7509e+00 (1.7557e+00)\tAcc@1  32.42 ( 34.03)\tAcc@5  86.72 ( 86.91)\n",
      "Epoch: [3][350/352]\tTime  0.067 ( 0.072)\tData  0.000 ( 0.001)\tLoss 1.7704e+00 (1.7524e+00)\tAcc@1  30.08 ( 34.12)\tAcc@5  86.33 ( 86.99)\n",
      "Batch size: 256, allocated memory: 1965.11181640625 MB total memory: 22592.0625 MB\n",
      "Test: [  0/352]\tTime  0.158 ( 0.158)\tLoss 1.3733e+00 (1.3733e+00)\tAcc@1  57.42 ( 57.42)\tAcc@5  84.38 ( 84.38)\n",
      "Test: [ 50/352]\tTime  0.053 ( 0.041)\tLoss 1.5433e+00 (1.3826e+00)\tAcc@1  46.48 ( 52.67)\tAcc@5  90.62 ( 89.71)\n",
      "Test: [100/352]\tTime  0.053 ( 0.040)\tLoss 1.6910e+00 (1.5823e+00)\tAcc@1  45.31 ( 45.92)\tAcc@5  91.02 ( 88.49)\n",
      "Test: [150/352]\tTime  0.054 ( 0.039)\tLoss 2.0413e+00 (1.7335e+00)\tAcc@1   8.20 ( 36.63)\tAcc@5  91.41 ( 88.73)\n",
      "Test: [200/352]\tTime  0.063 ( 0.039)\tLoss 1.9894e+00 (1.7912e+00)\tAcc@1   8.20 ( 30.63)\tAcc@5  94.53 ( 89.90)\n",
      "Test: [250/352]\tTime  0.051 ( 0.040)\tLoss 1.1233e+00 (1.7886e+00)\tAcc@1  71.88 ( 32.07)\tAcc@5  89.84 ( 89.14)\n",
      "Test: [300/352]\tTime  0.054 ( 0.041)\tLoss 2.3374e+00 (1.7572e+00)\tAcc@1  18.75 ( 35.28)\tAcc@5  67.58 ( 88.35)\n",
      "Test: [350/352]\tTime  0.062 ( 0.040)\tLoss 1.5393e+00 (1.7645e+00)\tAcc@1  37.89 ( 35.68)\tAcc@5  89.06 ( 87.87)\n",
      " * Acc@1 35.694 Acc@5 87.877\n",
      "lr: [0.027639320225002113]\n",
      "Epoch: [4][  0/352]\tTime  0.241 ( 0.241)\tData  0.163 ( 0.163)\tLoss 1.7071e+00 (1.7071e+00)\tAcc@1  37.11 ( 37.11)\tAcc@5  88.28 ( 88.28)\n",
      "Epoch: [4][ 50/352]\tTime  0.071 ( 0.075)\tData  0.000 ( 0.004)\tLoss 1.6866e+00 (1.7094e+00)\tAcc@1  37.11 ( 36.04)\tAcc@5  89.06 ( 87.76)\n",
      "Epoch: [4][100/352]\tTime  0.071 ( 0.073)\tData  0.000 ( 0.002)\tLoss 1.7272e+00 (1.7233e+00)\tAcc@1  38.28 ( 35.79)\tAcc@5  88.28 ( 87.49)\n",
      "Epoch: [4][150/352]\tTime  0.071 ( 0.072)\tData  0.000 ( 0.002)\tLoss 1.7027e+00 (1.7178e+00)\tAcc@1  36.72 ( 35.93)\tAcc@5  88.67 ( 87.66)\n",
      "Epoch: [4][200/352]\tTime  0.071 ( 0.072)\tData  0.000 ( 0.001)\tLoss 1.6943e+00 (1.7136e+00)\tAcc@1  34.77 ( 35.94)\tAcc@5  89.84 ( 87.83)\n",
      "Epoch: [4][250/352]\tTime  0.071 ( 0.072)\tData  0.000 ( 0.001)\tLoss 1.6820e+00 (1.7078e+00)\tAcc@1  37.50 ( 35.96)\tAcc@5  87.11 ( 88.07)\n",
      "Epoch: [4][300/352]\tTime  0.071 ( 0.072)\tData  0.000 ( 0.001)\tLoss 1.6310e+00 (1.7040e+00)\tAcc@1  36.72 ( 36.03)\tAcc@5  87.89 ( 88.18)\n",
      "Epoch: [4][350/352]\tTime  0.067 ( 0.071)\tData  0.000 ( 0.001)\tLoss 1.7646e+00 (1.7011e+00)\tAcc@1  34.38 ( 36.11)\tAcc@5  89.06 ( 88.27)\n",
      "Batch size: 256, allocated memory: 1965.11181640625 MB total memory: 22592.0625 MB\n",
      "Test: [  0/352]\tTime  0.147 ( 0.147)\tLoss 1.6090e+00 (1.6090e+00)\tAcc@1  55.47 ( 55.47)\tAcc@5  89.06 ( 89.06)\n",
      "Test: [ 50/352]\tTime  0.062 ( 0.042)\tLoss 1.0580e+00 (1.3528e+00)\tAcc@1  70.31 ( 58.07)\tAcc@5  96.88 ( 93.37)\n",
      "Test: [100/352]\tTime  0.060 ( 0.044)\tLoss 1.7844e+00 (1.4944e+00)\tAcc@1  40.62 ( 51.95)\tAcc@5  92.97 ( 92.33)\n",
      "Test: [150/352]\tTime  0.054 ( 0.042)\tLoss 2.1917e+00 (1.6648e+00)\tAcc@1  12.50 ( 40.89)\tAcc@5  81.25 ( 90.82)\n",
      "Test: [200/352]\tTime  0.024 ( 0.041)\tLoss 1.7799e+00 (1.7277e+00)\tAcc@1  30.86 ( 37.56)\tAcc@5  91.80 ( 90.06)\n",
      "Test: [250/352]\tTime  0.024 ( 0.041)\tLoss 1.4709e+00 (1.7706e+00)\tAcc@1  54.69 ( 36.47)\tAcc@5  86.33 ( 88.36)\n",
      "Test: [300/352]\tTime  0.031 ( 0.040)\tLoss 1.7555e+00 (1.7508e+00)\tAcc@1  33.98 ( 37.91)\tAcc@5  86.72 ( 87.81)\n",
      "Test: [350/352]\tTime  0.024 ( 0.040)\tLoss 1.5540e+00 (1.7299e+00)\tAcc@1  25.39 ( 37.41)\tAcc@5  96.09 ( 88.46)\n",
      " * Acc@1 37.398 Acc@5 88.472\n",
      "lr: [0.0]\n"
     ]
    }
   ],
   "source": [
    "# Create a SummaryWriter to log accuracy, loss, and learning rate during training\n",
    "writer = SummaryWriter(log_dir=\"/data/runs/\")\n",
    "\n",
    "for epoch in range(START_EPOCH, EPOCHS):\n",
    "    adjust_learning_rate(optimizer, epoch)\n",
    "\n",
    "    # train for one epoch\n",
    "    train(train_loader, model, criterion, optimizer, epoch)\n",
    "    \n",
    "    # Check how much GPU memory was used during training\n",
    "    allocated_memory = torch.cuda.max_memory_allocated(device=device)\n",
    "    total_memory = torch.cuda.get_device_properties(device).total_memory\n",
    "    print(f\"Batch size: {TRAIN_BATCH}, allocated memory: {allocated_memory / 1024 / 1024} MB total memory: {total_memory / 1024 / 1024} MB\")\n",
    "\n",
    "    # evaluate on validation set\n",
    "    acc1 = validate(val_loader, model, criterion)\n",
    "\n",
    "    # remember best acc@1 and save checkpoint\n",
    "    is_best = acc1 > best_acc1\n",
    "    best_acc1 = max(acc1, best_acc1)\n",
    "\n",
    "\n",
    "    save_checkpoint({\n",
    "        'epoch': epoch + 1,\n",
    "        'arch': ARCH,\n",
    "        'state_dict': model.state_dict(),\n",
    "        'best_acc1': best_acc1,\n",
    "        'optimizer' : optimizer.state_dict(),\n",
    "    }, is_best)\n",
    "    \n",
    "    scheduler.step()\n",
    "    print('lr: ' + str(scheduler.get_last_lr()))\n",
    "    \n",
    "# Close the SummaryWriter\n",
    "writer.close()"
   ]
  },
  {
   "cell_type": "code",
   "execution_count": 40,
   "id": "8bd319ef",
   "metadata": {
    "id": "adc68068"
   },
   "outputs": [
    {
     "name": "stdout",
     "output_type": "stream",
     "text": [
      "TensorFlow installation not found - running with reduced feature set.\n",
      "\n",
      "NOTE: Using experimental fast data loading logic. To disable, pass\n",
      "    \"--load_fast=false\" and report issues on GitHub. More details:\n",
      "    https://github.com/tensorflow/tensorboard/issues/4784\n",
      "\n",
      "TensorBoard 2.9.0 at http://ip-172-31-5-57.us-west-2.compute.internal:6006/ (Press CTRL+C to quit)\n"
     ]
    }
   ],
   "source": [
    "# the logdir should match the parameter passed to what you pass to SummaryWriter, e.g.\n",
    "# writer = SummaryWriter(log_dir=\"/data/runs/\")\n",
    "!tensorboard --logdir=/data/runs"
   ]
  },
  {
   "cell_type": "code",
   "execution_count": null,
   "id": "1f3d3992",
   "metadata": {
    "id": "d3faf0cd"
   },
   "outputs": [],
   "source": []
  }
 ],
 "metadata": {
  "colab": {
   "name": "cinic.ipynb",
   "provenance": []
  },
  "kernelspec": {
   "display_name": "Python 3 (ipykernel)",
   "language": "python",
   "name": "python3"
  },
  "language_info": {
   "codemirror_mode": {
    "name": "ipython",
    "version": 3
   },
   "file_extension": ".py",
   "mimetype": "text/x-python",
   "name": "python",
   "nbconvert_exporter": "python",
   "pygments_lexer": "ipython3",
   "version": "3.8.10"
  }
 },
 "nbformat": 4,
 "nbformat_minor": 5
}
